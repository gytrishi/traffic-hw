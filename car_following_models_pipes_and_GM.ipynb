{
  "nbformat": 4,
  "nbformat_minor": 0,
  "metadata": {
    "colab": {
      "name": "car following models pipes and GM",
      "provenance": [],
      "collapsed_sections": [],
      "authorship_tag": "ABX9TyMeaFc5yEz36ZRq7UXaxFcL",
      "include_colab_link": true
    },
    "kernelspec": {
      "name": "python3",
      "display_name": "Python 3"
    },
    "language_info": {
      "name": "python"
    }
  },
  "cells": [
    {
      "cell_type": "markdown",
      "metadata": {
        "id": "view-in-github",
        "colab_type": "text"
      },
      "source": [
        "<a href=\"https://colab.research.google.com/github/gytrishi/traffic-hw/blob/main/car_following_models_pipes_and_GM.ipynb\" target=\"_parent\"><img src=\"https://colab.research.google.com/assets/colab-badge.svg\" alt=\"Open In Colab\"/></a>"
      ]
    },
    {
      "cell_type": "code",
      "metadata": {
        "colab": {
          "base_uri": "https://localhost:8080/"
        },
        "id": "QlEhqpwlX3PU",
        "outputId": "8aaabc89-a7b4-49a0-9530-081db97596e9"
      },
      "source": [
        "!git clone https://github.com/gytrishi/traffic-hw.git"
      ],
      "execution_count": 24,
      "outputs": [
        {
          "output_type": "stream",
          "name": "stdout",
          "text": [
            "fatal: destination path 'traffic-hw' already exists and is not an empty directory.\n"
          ]
        }
      ]
    },
    {
      "cell_type": "code",
      "metadata": {
        "id": "EvYBvCaQwEkh"
      },
      "source": [
        "import pandas as pd"
      ],
      "execution_count": 25,
      "outputs": []
    },
    {
      "cell_type": "code",
      "metadata": {
        "id": "qK0vxwzPJkza"
      },
      "source": [
        "def minimum(a, b):\n",
        "      \n",
        "    if a <= b:\n",
        "        return a\n",
        "    else:\n",
        "        return b\n",
        "def maximum(a, b):\n",
        "      \n",
        "    if a >= b:\n",
        "        return a\n",
        "    else:\n",
        "        return b"
      ],
      "execution_count": 26,
      "outputs": []
    },
    {
      "cell_type": "code",
      "metadata": {
        "colab": {
          "base_uri": "https://localhost:8080/",
          "height": 423
        },
        "id": "ib213slbxLXr",
        "outputId": "b1cc9800-b566-4576-daa9-b2332f746d36"
      },
      "source": [
        "pd.read_excel('/content/traffic-hw/car_following.xlsx',usecols=\"A:g\",names=[\"t\",\"v(t,i-1)\",\t\"x(t,i-1)\",\t\"x(t,i)\",\t\"si(t)\",\"si(tmin)\",\"v(t,i)\"])"
      ],
      "execution_count": 27,
      "outputs": [
        {
          "output_type": "execute_result",
          "data": {
            "text/html": [
              "<div>\n",
              "<style scoped>\n",
              "    .dataframe tbody tr th:only-of-type {\n",
              "        vertical-align: middle;\n",
              "    }\n",
              "\n",
              "    .dataframe tbody tr th {\n",
              "        vertical-align: top;\n",
              "    }\n",
              "\n",
              "    .dataframe thead th {\n",
              "        text-align: right;\n",
              "    }\n",
              "</style>\n",
              "<table border=\"1\" class=\"dataframe\">\n",
              "  <thead>\n",
              "    <tr style=\"text-align: right;\">\n",
              "      <th></th>\n",
              "      <th>t</th>\n",
              "      <th>v(t,i-1)</th>\n",
              "      <th>x(t,i-1)</th>\n",
              "      <th>x(t,i)</th>\n",
              "      <th>si(t)</th>\n",
              "      <th>si(tmin)</th>\n",
              "      <th>v(t,i)</th>\n",
              "    </tr>\n",
              "  </thead>\n",
              "  <tbody>\n",
              "    <tr>\n",
              "      <th>0</th>\n",
              "      <td>0</td>\n",
              "      <td>0</td>\n",
              "      <td>5000</td>\n",
              "      <td>NaN</td>\n",
              "      <td>NaN</td>\n",
              "      <td>NaN</td>\n",
              "      <td>NaN</td>\n",
              "    </tr>\n",
              "    <tr>\n",
              "      <th>1</th>\n",
              "      <td>1</td>\n",
              "      <td>0</td>\n",
              "      <td>5000</td>\n",
              "      <td>NaN</td>\n",
              "      <td>NaN</td>\n",
              "      <td>NaN</td>\n",
              "      <td>NaN</td>\n",
              "    </tr>\n",
              "    <tr>\n",
              "      <th>2</th>\n",
              "      <td>2</td>\n",
              "      <td>0</td>\n",
              "      <td>5000</td>\n",
              "      <td>NaN</td>\n",
              "      <td>NaN</td>\n",
              "      <td>NaN</td>\n",
              "      <td>NaN</td>\n",
              "    </tr>\n",
              "    <tr>\n",
              "      <th>3</th>\n",
              "      <td>3</td>\n",
              "      <td>0</td>\n",
              "      <td>5000</td>\n",
              "      <td>NaN</td>\n",
              "      <td>NaN</td>\n",
              "      <td>NaN</td>\n",
              "      <td>NaN</td>\n",
              "    </tr>\n",
              "    <tr>\n",
              "      <th>4</th>\n",
              "      <td>4</td>\n",
              "      <td>0</td>\n",
              "      <td>5000</td>\n",
              "      <td>NaN</td>\n",
              "      <td>NaN</td>\n",
              "      <td>NaN</td>\n",
              "      <td>NaN</td>\n",
              "    </tr>\n",
              "    <tr>\n",
              "      <th>...</th>\n",
              "      <td>...</td>\n",
              "      <td>...</td>\n",
              "      <td>...</td>\n",
              "      <td>...</td>\n",
              "      <td>...</td>\n",
              "      <td>...</td>\n",
              "      <td>...</td>\n",
              "    </tr>\n",
              "    <tr>\n",
              "      <th>496</th>\n",
              "      <td>496</td>\n",
              "      <td>0</td>\n",
              "      <td>8762</td>\n",
              "      <td>NaN</td>\n",
              "      <td>NaN</td>\n",
              "      <td>NaN</td>\n",
              "      <td>NaN</td>\n",
              "    </tr>\n",
              "    <tr>\n",
              "      <th>497</th>\n",
              "      <td>497</td>\n",
              "      <td>0</td>\n",
              "      <td>8762</td>\n",
              "      <td>NaN</td>\n",
              "      <td>NaN</td>\n",
              "      <td>NaN</td>\n",
              "      <td>NaN</td>\n",
              "    </tr>\n",
              "    <tr>\n",
              "      <th>498</th>\n",
              "      <td>498</td>\n",
              "      <td>0</td>\n",
              "      <td>8762</td>\n",
              "      <td>NaN</td>\n",
              "      <td>NaN</td>\n",
              "      <td>NaN</td>\n",
              "      <td>NaN</td>\n",
              "    </tr>\n",
              "    <tr>\n",
              "      <th>499</th>\n",
              "      <td>499</td>\n",
              "      <td>0</td>\n",
              "      <td>8762</td>\n",
              "      <td>NaN</td>\n",
              "      <td>NaN</td>\n",
              "      <td>NaN</td>\n",
              "      <td>NaN</td>\n",
              "    </tr>\n",
              "    <tr>\n",
              "      <th>500</th>\n",
              "      <td>500</td>\n",
              "      <td>0</td>\n",
              "      <td>8762</td>\n",
              "      <td>NaN</td>\n",
              "      <td>NaN</td>\n",
              "      <td>NaN</td>\n",
              "      <td>NaN</td>\n",
              "    </tr>\n",
              "  </tbody>\n",
              "</table>\n",
              "<p>501 rows × 7 columns</p>\n",
              "</div>"
            ],
            "text/plain": [
              "       t  v(t,i-1)  x(t,i-1) x(t,i) si(t) si(tmin) v(t,i)\n",
              "0      0         0      5000    NaN   NaN      NaN    NaN\n",
              "1      1         0      5000    NaN   NaN      NaN    NaN\n",
              "2      2         0      5000    NaN   NaN      NaN    NaN\n",
              "3      3         0      5000    NaN   NaN      NaN    NaN\n",
              "4      4         0      5000    NaN   NaN      NaN    NaN\n",
              "..   ...       ...       ...    ...   ...      ...    ...\n",
              "496  496         0      8762    NaN   NaN      NaN    NaN\n",
              "497  497         0      8762    NaN   NaN      NaN    NaN\n",
              "498  498         0      8762    NaN   NaN      NaN    NaN\n",
              "499  499         0      8762    NaN   NaN      NaN    NaN\n",
              "500  500         0      8762    NaN   NaN      NaN    NaN\n",
              "\n",
              "[501 rows x 7 columns]"
            ]
          },
          "metadata": {},
          "execution_count": 27
        }
      ]
    },
    {
      "cell_type": "code",
      "metadata": {
        "colab": {
          "base_uri": "https://localhost:8080/",
          "height": 423
        },
        "id": "KMhUgOxVyZGp",
        "outputId": "2128f6c8-3402-4eaf-bb7d-bd9ccfd5cba4"
      },
      "source": [
        "car=pd.read_excel('/content/traffic-hw/car_following.xlsx',usecols= \"A:g\")\n",
        "car1=pd.DataFrame(car)\n",
        "car1"
      ],
      "execution_count": 28,
      "outputs": [
        {
          "output_type": "execute_result",
          "data": {
            "text/html": [
              "<div>\n",
              "<style scoped>\n",
              "    .dataframe tbody tr th:only-of-type {\n",
              "        vertical-align: middle;\n",
              "    }\n",
              "\n",
              "    .dataframe tbody tr th {\n",
              "        vertical-align: top;\n",
              "    }\n",
              "\n",
              "    .dataframe thead th {\n",
              "        text-align: right;\n",
              "    }\n",
              "</style>\n",
              "<table border=\"1\" class=\"dataframe\">\n",
              "  <thead>\n",
              "    <tr style=\"text-align: right;\">\n",
              "      <th></th>\n",
              "      <th>Time</th>\n",
              "      <th>v(t,i-1)</th>\n",
              "      <th>x(t,i-1)</th>\n",
              "    </tr>\n",
              "  </thead>\n",
              "  <tbody>\n",
              "    <tr>\n",
              "      <th>0</th>\n",
              "      <td>0</td>\n",
              "      <td>0</td>\n",
              "      <td>5000</td>\n",
              "    </tr>\n",
              "    <tr>\n",
              "      <th>1</th>\n",
              "      <td>1</td>\n",
              "      <td>0</td>\n",
              "      <td>5000</td>\n",
              "    </tr>\n",
              "    <tr>\n",
              "      <th>2</th>\n",
              "      <td>2</td>\n",
              "      <td>0</td>\n",
              "      <td>5000</td>\n",
              "    </tr>\n",
              "    <tr>\n",
              "      <th>3</th>\n",
              "      <td>3</td>\n",
              "      <td>0</td>\n",
              "      <td>5000</td>\n",
              "    </tr>\n",
              "    <tr>\n",
              "      <th>4</th>\n",
              "      <td>4</td>\n",
              "      <td>0</td>\n",
              "      <td>5000</td>\n",
              "    </tr>\n",
              "    <tr>\n",
              "      <th>...</th>\n",
              "      <td>...</td>\n",
              "      <td>...</td>\n",
              "      <td>...</td>\n",
              "    </tr>\n",
              "    <tr>\n",
              "      <th>496</th>\n",
              "      <td>496</td>\n",
              "      <td>0</td>\n",
              "      <td>8762</td>\n",
              "    </tr>\n",
              "    <tr>\n",
              "      <th>497</th>\n",
              "      <td>497</td>\n",
              "      <td>0</td>\n",
              "      <td>8762</td>\n",
              "    </tr>\n",
              "    <tr>\n",
              "      <th>498</th>\n",
              "      <td>498</td>\n",
              "      <td>0</td>\n",
              "      <td>8762</td>\n",
              "    </tr>\n",
              "    <tr>\n",
              "      <th>499</th>\n",
              "      <td>499</td>\n",
              "      <td>0</td>\n",
              "      <td>8762</td>\n",
              "    </tr>\n",
              "    <tr>\n",
              "      <th>500</th>\n",
              "      <td>500</td>\n",
              "      <td>0</td>\n",
              "      <td>8762</td>\n",
              "    </tr>\n",
              "  </tbody>\n",
              "</table>\n",
              "<p>501 rows × 3 columns</p>\n",
              "</div>"
            ],
            "text/plain": [
              "     Time  v(t,i-1)  x(t,i-1)\n",
              "0       0         0      5000\n",
              "1       1         0      5000\n",
              "2       2         0      5000\n",
              "3       3         0      5000\n",
              "4       4         0      5000\n",
              "..    ...       ...       ...\n",
              "496   496         0      8762\n",
              "497   497         0      8762\n",
              "498   498         0      8762\n",
              "499   499         0      8762\n",
              "500   500         0      8762\n",
              "\n",
              "[501 rows x 3 columns]"
            ]
          },
          "metadata": {},
          "execution_count": 28
        }
      ]
    },
    {
      "cell_type": "code",
      "metadata": {
        "id": "4W4vJb_GL9aw"
      },
      "source": [
        "def pipes(acceleration=4,deacceleration=6,dt=1,v0=0,x1=-102,l=6,vd=30): \n",
        "  sit=[]\n",
        "  vel=[]\n",
        "  minsit=[]\n",
        "  x=[]\n",
        "  a= acceleration\n",
        "  d= deacceleration\n",
        "  for t in range(0,501):\n",
        "    if t==0:\n",
        "      sit.append(0)\n",
        "      vel.append(v0)\n",
        "      minsit.append(0)\n",
        "      x.append(x1)\n",
        "    else:\n",
        "      s =(car1.iloc[t-1,2])-x[t-1]\n",
        "      sit.append(s)\n",
        "      mins=((vel[t-1]/4.47)+1)*(l)\n",
        "      minsit.append(mins)\n",
        "      if sit[t]<minsit[t]:\n",
        "        k=vel[t-1]-d*dt\n",
        "        vel.append(maximum(0,k))\n",
        "      else:\n",
        "        k=vel[t-1]+a*dt\n",
        "        vel.append(minimum(vd,k))\n",
        "    xt=x[t-1]+vel[t]*dt\n",
        "    if t>0:\n",
        "      x.append(xt)\n",
        "  return sit,minsit,vel,x"
      ],
      "execution_count": 29,
      "outputs": []
    },
    {
      "cell_type": "code",
      "metadata": {
        "colab": {
          "base_uri": "https://localhost:8080/",
          "height": 764
        },
        "id": "yFzwdvE7ffS3",
        "outputId": "0d7eea8a-62af-451a-8d0c-91722ab8768f"
      },
      "source": [
        "for i in range(10):\n",
        "  a,b,c,d=pipes(4,6,1,0,(-102+(-100)*i),6,30)\n",
        "  car1.insert((3+4*i),\"x(t,i)\",d,True)\n",
        "  car1.insert((4+4*i),\"Si(t))\",a,True)\n",
        "  car1.insert((5+4*i),\"Simin(t)\",b,True)\n",
        "  car1.insert((6+4*i),\"v(t,i)\",c,True)\n",
        "print(car1)\n",
        "import matplotlib.pyplot as plt\n",
        "#plot positions\n",
        "x= car1.Time\n",
        "y1= car1['x(t,i-1)']\n",
        "y2= car1['x(t,i)']\n",
        "fig, ax1= plt.subplots()\n",
        "ax2= ax1.twinx()\n",
        "curve1= ax1.plot(x,y1,label='x(t,i-1)',color='r')\n",
        "curve2= ax1.plot(x,y2,label='x(t,i)')\n",
        "#plot speed\n",
        "x= car1.Time\n",
        "y1= car1['v(t,i-1)']\n",
        "y2= car1['v(t,i)']\n",
        "fig, ax1= plt.subplots()\n",
        "ax2= ax1.twinx()\n",
        "curve1= ax1.plot(x,y1,label='x(v,i-1)',color='r')\n",
        "curve2= ax1.plot(x,y2,label='v(t,i)')\n",
        "car1.to_excel(\"car_following_assignment_pipes.xlsx\")\n",
        "\n"
      ],
      "execution_count": 30,
      "outputs": [
        {
          "output_type": "stream",
          "name": "stdout",
          "text": [
            "     Time  v(t,i-1)  x(t,i-1)  x(t,i)  ...  x(t,i)  Si(t))   Simin(t)  v(t,i)\n",
            "0       0         0      5000    -102  ...   -1002       0   0.000000       0\n",
            "1       1         0      5000     -98  ...    -998    6002   6.000000       4\n",
            "2       2         0      5000     -90  ...    -990    5998  11.369128       8\n",
            "3       3         0      5000     -78  ...    -978    5990  16.738255      12\n",
            "4       4         0      5000     -62  ...    -962    5978  22.107383      16\n",
            "..    ...       ...       ...     ...  ...     ...     ...        ...     ...\n",
            "496   496         0      8762    8784  ...    8790     -28   6.000000       0\n",
            "497   497         0      8762    8784  ...    8790     -28   6.000000       0\n",
            "498   498         0      8762    8784  ...    8790     -28   6.000000       0\n",
            "499   499         0      8762    8784  ...    8790     -28   6.000000       0\n",
            "500   500         0      8762    8784  ...    8790     -28   6.000000       0\n",
            "\n",
            "[501 rows x 43 columns]\n"
          ]
        },
        {
          "output_type": "display_data",
          "data": {
            "image/png": "[encoded data removed]",
            "text/plain": [
              "<Figure size 432x288 with 2 Axes>"
            ]
          },
          "metadata": {
            "needs_background": "light"
          }
        },
        {
          "output_type": "display_data",
          "data": {
            "image/png": "[encoded data removed]",
            "text/plain": [
              "<Figure size 432x288 with 2 Axes>"
            ]
          },
          "metadata": {
            "needs_background": "light"
          }
        }
      ]
    },
    {
      "cell_type": "code",
      "metadata": {
        "colab": {
          "base_uri": "https://localhost:8080/",
          "height": 423
        },
        "id": "-sMVL2Cew3Ry",
        "outputId": "174be5ad-acee-4e48-891f-eb2675e6843d"
      },
      "source": [
        "car=pd.read_excel('/content/traffic-hw/car_following.xlsx',usecols= \"A:g\")\n",
        "car2=pd.DataFrame(car)\n",
        "car2"
      ],
      "execution_count": 31,
      "outputs": [
        {
          "output_type": "execute_result",
          "data": {
            "text/html": [
              "<div>\n",
              "<style scoped>\n",
              "    .dataframe tbody tr th:only-of-type {\n",
              "        vertical-align: middle;\n",
              "    }\n",
              "\n",
              "    .dataframe tbody tr th {\n",
              "        vertical-align: top;\n",
              "    }\n",
              "\n",
              "    .dataframe thead th {\n",
              "        text-align: right;\n",
              "    }\n",
              "</style>\n",
              "<table border=\"1\" class=\"dataframe\">\n",
              "  <thead>\n",
              "    <tr style=\"text-align: right;\">\n",
              "      <th></th>\n",
              "      <th>Time</th>\n",
              "      <th>v(t,i-1)</th>\n",
              "      <th>x(t,i-1)</th>\n",
              "    </tr>\n",
              "  </thead>\n",
              "  <tbody>\n",
              "    <tr>\n",
              "      <th>0</th>\n",
              "      <td>0</td>\n",
              "      <td>0</td>\n",
              "      <td>5000</td>\n",
              "    </tr>\n",
              "    <tr>\n",
              "      <th>1</th>\n",
              "      <td>1</td>\n",
              "      <td>0</td>\n",
              "      <td>5000</td>\n",
              "    </tr>\n",
              "    <tr>\n",
              "      <th>2</th>\n",
              "      <td>2</td>\n",
              "      <td>0</td>\n",
              "      <td>5000</td>\n",
              "    </tr>\n",
              "    <tr>\n",
              "      <th>3</th>\n",
              "      <td>3</td>\n",
              "      <td>0</td>\n",
              "      <td>5000</td>\n",
              "    </tr>\n",
              "    <tr>\n",
              "      <th>4</th>\n",
              "      <td>4</td>\n",
              "      <td>0</td>\n",
              "      <td>5000</td>\n",
              "    </tr>\n",
              "    <tr>\n",
              "      <th>...</th>\n",
              "      <td>...</td>\n",
              "      <td>...</td>\n",
              "      <td>...</td>\n",
              "    </tr>\n",
              "    <tr>\n",
              "      <th>496</th>\n",
              "      <td>496</td>\n",
              "      <td>0</td>\n",
              "      <td>8762</td>\n",
              "    </tr>\n",
              "    <tr>\n",
              "      <th>497</th>\n",
              "      <td>497</td>\n",
              "      <td>0</td>\n",
              "      <td>8762</td>\n",
              "    </tr>\n",
              "    <tr>\n",
              "      <th>498</th>\n",
              "      <td>498</td>\n",
              "      <td>0</td>\n",
              "      <td>8762</td>\n",
              "    </tr>\n",
              "    <tr>\n",
              "      <th>499</th>\n",
              "      <td>499</td>\n",
              "      <td>0</td>\n",
              "      <td>8762</td>\n",
              "    </tr>\n",
              "    <tr>\n",
              "      <th>500</th>\n",
              "      <td>500</td>\n",
              "      <td>0</td>\n",
              "      <td>8762</td>\n",
              "    </tr>\n",
              "  </tbody>\n",
              "</table>\n",
              "<p>501 rows × 3 columns</p>\n",
              "</div>"
            ],
            "text/plain": [
              "     Time  v(t,i-1)  x(t,i-1)\n",
              "0       0         0      5000\n",
              "1       1         0      5000\n",
              "2       2         0      5000\n",
              "3       3         0      5000\n",
              "4       4         0      5000\n",
              "..    ...       ...       ...\n",
              "496   496         0      8762\n",
              "497   497         0      8762\n",
              "498   498         0      8762\n",
              "499   499         0      8762\n",
              "500   500         0      8762\n",
              "\n",
              "[501 rows x 3 columns]"
            ]
          },
          "metadata": {},
          "execution_count": 31
        }
      ]
    },
    {
      "cell_type": "code",
      "metadata": {
        "id": "VlrEAjgHxMDu"
      },
      "source": [
        "def GM(dt=1,v0=30,x1=467,alpha=0.8,a0=0): \n",
        "  sit=[]\n",
        "  vel=[]\n",
        "  acc=[]\n",
        "  x=[]\n",
        "  dv=[]\n",
        "  for t in range(0,501):\n",
        "    if t==0:\n",
        "      vel.append(v0)\n",
        "      x.append(x1)\n",
        "      acc.append(a0)\n",
        "      s =(car1.iloc[t,2])-x[t]\n",
        "      sit.append(s)\n",
        "      delv=(car1.iloc[t,1])-vel[t]\n",
        "      dv.append(delv)\n",
        "    else:\n",
        "      a=(alpha*(vel[t-1])*dv[t-1])/sit[t-1]\n",
        "      acc.append(a)\n",
        "      k=vel[t-1]+acc[t]*dt\n",
        "      vel.append(maximum(0,k))\n",
        "      xt=x[t-1]+vel[t]*dt\n",
        "      x.append(xt)\n",
        "      s =(car1.iloc[t,2])-x[t]\n",
        "      sit.append(s)\n",
        "      delv=(car1.iloc[t,1])-vel[t]\n",
        "      dv.append(delv)\n",
        "  return x,sit,dv,acc,vel"
      ],
      "execution_count": 32,
      "outputs": []
    },
    {
      "cell_type": "code",
      "metadata": {
        "colab": {
          "base_uri": "https://localhost:8080/",
          "height": 764
        },
        "id": "1On4wtgb7Cz8",
        "outputId": "907486cf-51b0-4695-b526-c28cccacec03"
      },
      "source": [
        "for i in range(10):\n",
        "  a,b,c,d,e=GM(1,30,(467+(-100)*i),0.8,0)\n",
        "  car2.insert((3+5*i),\"x(t,i)\",a,True)\n",
        "  car2.insert((4+5*i),\"Si(t))\",b,True)\n",
        "  car2.insert((5+5*i),\"dv\",c,True)\n",
        "  car2.insert((6+5*i),\"acc\",d,True)\n",
        "  car2.insert((7+5*i),\"vel\",e,True)\n",
        "print(car2)\n",
        "import matplotlib.pyplot as plt\n",
        "x= car2.Time\n",
        "y1= car2['x(t,i-1)']\n",
        "y2= car2['x(t,i)']\n",
        "fig, ax1= plt.subplots()\n",
        "ax2= ax1.twinx()\n",
        "curve1= ax1.plot(x,y1,label='x(t,i-1)',color='r')\n",
        "curve2= ax1.plot(x,y2,label='x(t,i)')\n",
        "#plot speed\n",
        "x= car2.Time\n",
        "y1= car2['v(t,i-1)']\n",
        "y2= car2['vel']\n",
        "fig, ax1= plt.subplots()\n",
        "ax2= ax1.twinx()\n",
        "curve1= ax1.plot(x,y1,label='x(v,i-1)',color='r')\n",
        "curve2= ax1.plot(x,y2,label='v(t,i)')\n",
        "car2.to_excel(\"car_following_assignment_GM.xlsx\")"
      ],
      "execution_count": 33,
      "outputs": [
        {
          "output_type": "stream",
          "name": "stdout",
          "text": [
            "     Time  v(t,i-1)  x(t,i-1)  ...         dv       acc        vel\n",
            "0       0         0      5000  ... -30.000000  0.000000  30.000000\n",
            "1       1         0      5000  ... -29.867477 -0.132523  29.867477\n",
            "2       2         0      5000  ... -29.735395 -0.132081  29.735395\n",
            "3       3         0      5000  ... -29.603755 -0.131640  29.603755\n",
            "4       4         0      5000  ... -29.472555 -0.131200  29.472555\n",
            "..    ...       ...       ...  ...        ...       ...        ...\n",
            "496   496         0      8762  ...  -6.824830 -0.126847   6.824830\n",
            "497   497         0      8762  ...  -6.699770 -0.125061   6.699770\n",
            "498   498         0      8762  ...  -6.576478 -0.123292   6.576478\n",
            "499   499         0      8762  ...  -6.454938 -0.121540   6.454938\n",
            "500   500         0      8762  ...  -6.335132 -0.119806   6.335132\n",
            "\n",
            "[501 rows x 53 columns]\n"
          ]
        },
        {
          "output_type": "display_data",
          "data": {
            "image/png": "[encoded data removed]",
            "text/plain": [
              "<Figure size 432x288 with 2 Axes>"
            ]
          },
          "metadata": {
            "needs_background": "light"
          }
        },
        {
          "output_type": "display_data",
          "data": {
            "image/png": "[encoded data removed]",
            "text/plain": [
              "<Figure size 432x288 with 2 Axes>"
            ]
          },
          "metadata": {
            "needs_background": "light"
          }
        }
      ]
    }
  ]
}